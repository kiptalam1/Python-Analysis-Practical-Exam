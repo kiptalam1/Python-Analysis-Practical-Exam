{
 "cells": [
  {
   "cell_type": "code",
   "execution_count": 1,
   "id": "f029be49-f1ac-4d0a-9e30-bc2ce4c01fad",
   "metadata": {},
   "outputs": [],
   "source": [
    "import pandas as pd\n",
    "import numpy as np\n",
    "import matplotlib.pyplot as plt\n",
    "import seaborn as sns"
   ]
  },
  {
   "cell_type": "code",
   "execution_count": 2,
   "id": "df138528-1a43-4062-b010-67810dcd2259",
   "metadata": {},
   "outputs": [],
   "source": [
    "df = pd.read_csv('MD_agric_exam-4313.csv')"
   ]
  },
  {
   "cell_type": "code",
   "execution_count": 3,
   "id": "d8c54231-d2de-4f3b-9862-6156f3f706b9",
   "metadata": {},
   "outputs": [
    {
     "data": {
      "text/html": [
       "<div>\n",
       "<style scoped>\n",
       "    .dataframe tbody tr th:only-of-type {\n",
       "        vertical-align: middle;\n",
       "    }\n",
       "\n",
       "    .dataframe tbody tr th {\n",
       "        vertical-align: top;\n",
       "    }\n",
       "\n",
       "    .dataframe thead th {\n",
       "        text-align: right;\n",
       "    }\n",
       "</style>\n",
       "<table border=\"1\" class=\"dataframe\">\n",
       "  <thead>\n",
       "    <tr style=\"text-align: right;\">\n",
       "      <th></th>\n",
       "      <th>Field_ID</th>\n",
       "      <th>Elevation</th>\n",
       "      <th>Rainfall</th>\n",
       "      <th>Min_temperature_C</th>\n",
       "      <th>Max_temperature_C</th>\n",
       "      <th>pH</th>\n",
       "      <th>Pollution_level</th>\n",
       "      <th>Plot_size</th>\n",
       "      <th>Annual_yield</th>\n",
       "      <th>Crop_type</th>\n",
       "    </tr>\n",
       "  </thead>\n",
       "  <tbody>\n",
       "    <tr>\n",
       "      <th>0</th>\n",
       "      <td>1162</td>\n",
       "      <td>494.95615</td>\n",
       "      <td>1507.6</td>\n",
       "      <td>-5.4</td>\n",
       "      <td>31.0</td>\n",
       "      <td>6.859436</td>\n",
       "      <td>0.007034</td>\n",
       "      <td>3.6</td>\n",
       "      <td>1.617421</td>\n",
       "      <td>coffee</td>\n",
       "    </tr>\n",
       "    <tr>\n",
       "      <th>1</th>\n",
       "      <td>5108</td>\n",
       "      <td>663.73390</td>\n",
       "      <td>581.0</td>\n",
       "      <td>-4.7</td>\n",
       "      <td>30.9</td>\n",
       "      <td>5.603219</td>\n",
       "      <td>0.289643</td>\n",
       "      <td>4.2</td>\n",
       "      <td>2.532497</td>\n",
       "      <td>potato</td>\n",
       "    </tr>\n",
       "    <tr>\n",
       "      <th>2</th>\n",
       "      <td>3504</td>\n",
       "      <td>396.87990</td>\n",
       "      <td>1715.1</td>\n",
       "      <td>-6.1</td>\n",
       "      <td>31.7</td>\n",
       "      <td>5.774116</td>\n",
       "      <td>0.000409</td>\n",
       "      <td>2.6</td>\n",
       "      <td>1.262207</td>\n",
       "      <td>banana</td>\n",
       "    </tr>\n",
       "    <tr>\n",
       "      <th>3</th>\n",
       "      <td>5351</td>\n",
       "      <td>594.80370</td>\n",
       "      <td>1748.0</td>\n",
       "      <td>-4.3</td>\n",
       "      <td>33.6</td>\n",
       "      <td>6.477415</td>\n",
       "      <td>0.088777</td>\n",
       "      <td>7.9</td>\n",
       "      <td>4.351564</td>\n",
       "      <td>wheat</td>\n",
       "    </tr>\n",
       "    <tr>\n",
       "      <th>4</th>\n",
       "      <td>905</td>\n",
       "      <td>609.49800</td>\n",
       "      <td>1395.8</td>\n",
       "      <td>-4.5</td>\n",
       "      <td>31.3</td>\n",
       "      <td>5.419586</td>\n",
       "      <td>0.050023</td>\n",
       "      <td>10.8</td>\n",
       "      <td>5.034791</td>\n",
       "      <td>cassava</td>\n",
       "    </tr>\n",
       "    <tr>\n",
       "      <th>...</th>\n",
       "      <td>...</td>\n",
       "      <td>...</td>\n",
       "      <td>...</td>\n",
       "      <td>...</td>\n",
       "      <td>...</td>\n",
       "      <td>...</td>\n",
       "      <td>...</td>\n",
       "      <td>...</td>\n",
       "      <td>...</td>\n",
       "      <td>...</td>\n",
       "    </tr>\n",
       "    <tr>\n",
       "      <th>995</th>\n",
       "      <td>2202</td>\n",
       "      <td>572.95935</td>\n",
       "      <td>625.6</td>\n",
       "      <td>-5.5</td>\n",
       "      <td>31.0</td>\n",
       "      <td>5.258964</td>\n",
       "      <td>0.086330</td>\n",
       "      <td>1.2</td>\n",
       "      <td>0.750675</td>\n",
       "      <td>wheat</td>\n",
       "    </tr>\n",
       "    <tr>\n",
       "      <th>996</th>\n",
       "      <td>2531</td>\n",
       "      <td>552.80945</td>\n",
       "      <td>398.1</td>\n",
       "      <td>-5.9</td>\n",
       "      <td>33.4</td>\n",
       "      <td>4.607136</td>\n",
       "      <td>0.130178</td>\n",
       "      <td>0.8</td>\n",
       "      <td>0.449790</td>\n",
       "      <td>wheat</td>\n",
       "    </tr>\n",
       "    <tr>\n",
       "      <th>997</th>\n",
       "      <td>1040</td>\n",
       "      <td>678.22504</td>\n",
       "      <td>564.4</td>\n",
       "      <td>-4.6</td>\n",
       "      <td>31.7</td>\n",
       "      <td>5.567556</td>\n",
       "      <td>0.448149</td>\n",
       "      <td>1.2</td>\n",
       "      <td>0.492988</td>\n",
       "      <td>maize</td>\n",
       "    </tr>\n",
       "    <tr>\n",
       "      <th>998</th>\n",
       "      <td>58</td>\n",
       "      <td>792.65370</td>\n",
       "      <td>928.5</td>\n",
       "      <td>-3.3</td>\n",
       "      <td>31.2</td>\n",
       "      <td>5.102048</td>\n",
       "      <td>0.387350</td>\n",
       "      <td>1.1</td>\n",
       "      <td>0.597557</td>\n",
       "      <td>potato</td>\n",
       "    </tr>\n",
       "    <tr>\n",
       "      <th>999</th>\n",
       "      <td>3334</td>\n",
       "      <td>747.69850</td>\n",
       "      <td>981.5</td>\n",
       "      <td>-3.7</td>\n",
       "      <td>31.0</td>\n",
       "      <td>6.715882</td>\n",
       "      <td>0.541706</td>\n",
       "      <td>11.1</td>\n",
       "      <td>2.867815</td>\n",
       "      <td>coffee</td>\n",
       "    </tr>\n",
       "  </tbody>\n",
       "</table>\n",
       "<p>1000 rows × 10 columns</p>\n",
       "</div>"
      ],
      "text/plain": [
       "     Field_ID  Elevation  Rainfall  Min_temperature_C  Max_temperature_C  \\\n",
       "0        1162  494.95615    1507.6               -5.4               31.0   \n",
       "1        5108  663.73390     581.0               -4.7               30.9   \n",
       "2        3504  396.87990    1715.1               -6.1               31.7   \n",
       "3        5351  594.80370    1748.0               -4.3               33.6   \n",
       "4         905  609.49800    1395.8               -4.5               31.3   \n",
       "..        ...        ...       ...                ...                ...   \n",
       "995      2202  572.95935     625.6               -5.5               31.0   \n",
       "996      2531  552.80945     398.1               -5.9               33.4   \n",
       "997      1040  678.22504     564.4               -4.6               31.7   \n",
       "998        58  792.65370     928.5               -3.3               31.2   \n",
       "999      3334  747.69850     981.5               -3.7               31.0   \n",
       "\n",
       "           pH  Pollution_level  Plot_size  Annual_yield Crop_type  \n",
       "0    6.859436         0.007034        3.6      1.617421    coffee  \n",
       "1    5.603219         0.289643        4.2      2.532497    potato  \n",
       "2    5.774116         0.000409        2.6      1.262207    banana  \n",
       "3    6.477415         0.088777        7.9      4.351564     wheat  \n",
       "4    5.419586         0.050023       10.8      5.034791   cassava  \n",
       "..        ...              ...        ...           ...       ...  \n",
       "995  5.258964         0.086330        1.2      0.750675     wheat  \n",
       "996  4.607136         0.130178        0.8      0.449790     wheat  \n",
       "997  5.567556         0.448149        1.2      0.492988     maize  \n",
       "998  5.102048         0.387350        1.1      0.597557    potato  \n",
       "999  6.715882         0.541706       11.1      2.867815    coffee  \n",
       "\n",
       "[1000 rows x 10 columns]"
      ]
     },
     "execution_count": 3,
     "metadata": {},
     "output_type": "execute_result"
    }
   ],
   "source": [
    "df"
   ]
  },
  {
   "cell_type": "markdown",
   "id": "f378d96c-e5bb-4147-a38b-087621e8e095",
   "metadata": {},
   "source": [
    "#### 1. Write code to determine the number of unique crop types in the dataset?"
   ]
  },
  {
   "cell_type": "code",
   "execution_count": 4,
   "id": "a83261d0-17c8-4bcf-97f4-d84601f8f44b",
   "metadata": {},
   "outputs": [
    {
     "name": "stdout",
     "output_type": "stream",
     "text": [
      "number of unique crop types: 8\n"
     ]
    }
   ],
   "source": [
    "unique_crop_count = len(df['Crop_type'].unique())\n",
    "\n",
    "print(\"number of unique crop types:\", unique_crop_count)"
   ]
  },
  {
   "cell_type": "markdown",
   "id": "4cff310b-0db7-4718-a383-52c6441f759a",
   "metadata": {},
   "source": [
    "#### 2. Identify the maximum annual yield for \"wheat\" crop type in the dataset (rounded to 2 decimal places)."
   ]
  },
  {
   "cell_type": "code",
   "execution_count": 5,
   "id": "31d0f3db-dc61-4075-8fca-104605795df1",
   "metadata": {},
   "outputs": [
    {
     "name": "stdout",
     "output_type": "stream",
     "text": [
      "Maximum anual yield for wheat: 8.994376295629458\n"
     ]
    }
   ],
   "source": [
    "max_anual_wheat_yield = df[df['Crop_type'] == \"wheat\"]['Annual_yield'].max()\n",
    "print(\"Maximum anual yield for wheat:\", max_anual_wheat_yield)"
   ]
  },
  {
   "cell_type": "markdown",
   "id": "e41a44c8-e23e-441f-b28b-a8c049a860e6",
   "metadata": {},
   "source": [
    "#### 3. Find the total rainfall for crop types where the average pollution level is above 0.2."
   ]
  },
  {
   "cell_type": "code",
   "execution_count": 6,
   "id": "6fb8bb59-b452-412c-89c2-99f7f23672bd",
   "metadata": {},
   "outputs": [
    {
     "name": "stdout",
     "output_type": "stream",
     "text": [
      "Total Rainfall: 941959.7000000001\n"
     ]
    }
   ],
   "source": [
    "grouped_df = df.groupby('Crop_type').agg(\n",
    "    average_pollution=('Pollution_level', 'mean'),\n",
    "    total_rainfall=('Rainfall', 'sum')\n",
    ")\n",
    "filtered = grouped_df[grouped_df['average_pollution'] > 0.2]\n",
    "result = filtered['total_rainfall'].sum()\n",
    "print(\"Total Rainfall:\", result)"
   ]
  },
  {
   "cell_type": "markdown",
   "id": "0bd93c90-c079-4e84-81fd-c42fa3c713ed",
   "metadata": {},
   "source": [
    "#### 4. Write a function to calculate the temperature range (Max_temperature_C - Min_temperature_C) for each farmer's field. Then, call the function with the following `Field_ID`: `1458`, `1895`, and `5443`. What are the results of these 3 calls?"
   ]
  },
  {
   "cell_type": "code",
   "execution_count": 7,
   "id": "40a849ae-db1d-485a-bd1d-119c37f69390",
   "metadata": {},
   "outputs": [
    {
     "name": "stdout",
     "output_type": "stream",
     "text": [
      "Temperature range for Field_ID 1458: 40.7\n",
      "Temperature range for Field_ID 1895: 35.7\n",
      "Temperature range for Field_ID 5443: 33.4\n"
     ]
    }
   ],
   "source": [
    "def calculate_temperature_range(df, field_id):\n",
    "    field = df[df['Field_ID'] == field_id]\n",
    "    if not field.empty:\n",
    "        temp_range = field['Max_temperature_C'].values[0] - field['Min_temperature_C'].values[0]\n",
    "        return temp_range\n",
    "    else:\n",
    "        return f\"Field_ID {field_id} not found.\"\n",
    "\n",
    "# Test the function with Field_IDs: 1458, 1895, and 5443\n",
    "results = {\n",
    "    field_id: calculate_temperature_range(df, field_id) \n",
    "    for field_id in [1458, 1895, 5443]\n",
    "}\n",
    "\n",
    "# Print the results\n",
    "for field_id, temp_range in results.items():\n",
    "    print(f\"Temperature range for Field_ID {field_id}: {temp_range}\")"
   ]
  },
  {
   "cell_type": "markdown",
   "id": "749ed460-6019-4cfa-8e1c-6cbc5819f235",
   "metadata": {},
   "source": [
    "### 5. What does the following code achieve?\n",
    "\n",
    "a = data['Crop_type'].unique()\n",
    "\n",
    "b = float('inf')\n",
    "\n",
    "c = ''\n",
    "\n",
    "for crop in a:\n",
    "\n",
    "    d = data[data['Crop_type'] == crop]['Min_temperature_C'].mean()\n",
    "\n",
    "    if d < b:\n",
    "\n",
    "        b = d\n",
    "\n",
    "        c = crop\n",
    "\n",
    "print(c)"
   ]
  },
  {
   "cell_type": "code",
   "execution_count": 8,
   "id": "321d47ff-4201-4106-9cb8-37568ac052ac",
   "metadata": {},
   "outputs": [
    {
     "name": "stdout",
     "output_type": "stream",
     "text": [
      "rice\n"
     ]
    }
   ],
   "source": [
    "a = df['Crop_type'].unique()\n",
    "\n",
    "b = float('inf')\n",
    "\n",
    "c = ''\n",
    "\n",
    "for crop in a:\n",
    "\n",
    "    d = df[df['Crop_type'] == crop]['Min_temperature_C'].mean()\n",
    "    \n",
    "    if d < b:\n",
    "    \n",
    "        b = d\n",
    "    \n",
    "        c = crop\n",
    "print(c)"
   ]
  },
  {
   "cell_type": "markdown",
   "id": "8cea8cf7-5d68-43a6-b972-7c0fcc679af1",
   "metadata": {},
   "source": [
    "#### 6. Write code to calculate the total plot size for plots where the pH is less than 5.5."
   ]
  },
  {
   "cell_type": "code",
   "execution_count": 9,
   "id": "45c57b49-79ff-4c49-ab01-fce13b7a5e59",
   "metadata": {},
   "outputs": [
    {
     "data": {
      "text/plain": [
       "1731.8999999999999"
      ]
     },
     "execution_count": 9,
     "metadata": {},
     "output_type": "execute_result"
    }
   ],
   "source": [
    "less_than_55 = df[df['pH'] < 5.5]\n",
    "less_than_55['Plot_size'].sum()"
   ]
  },
  {
   "cell_type": "markdown",
   "id": "cd2599a6-a8e9-40c5-a54a-107edce80eb8",
   "metadata": {},
   "source": [
    "#### 7. Using Pandas, create a dataframe that includes entries with a 'Min_temperature_C’< -5 and a 'Max_temperature_C' > 30. How many rows are in the filtered dataset?"
   ]
  },
  {
   "cell_type": "code",
   "execution_count": 10,
   "id": "699c0f9d-56f0-4ffb-b451-c2d3fbe17d4c",
   "metadata": {},
   "outputs": [
    {
     "data": {
      "text/plain": [
       "(319, 10)"
      ]
     },
     "execution_count": 10,
     "metadata": {},
     "output_type": "execute_result"
    }
   ],
   "source": [
    "temp_df = df[(df['Min_temperature_C'] < -5) & (df['Max_temperature_C'] > 30)]\n",
    "temp_df.shape"
   ]
  },
  {
   "cell_type": "markdown",
   "id": "e8623d19-bf43-4bfc-9b48-179732060c12",
   "metadata": {},
   "source": [
    "#### 8. Using Numpy, calculate the standard deviation of the 'Rainfall' for plots where the 'Plot_size' is larger than the median plot size of the dataset (round to 2 decimal places)."
   ]
  },
  {
   "cell_type": "code",
   "execution_count": 11,
   "id": "ace6e67f-5c9f-45ed-baad-e46fc47a045d",
   "metadata": {},
   "outputs": [
    {
     "name": "stdout",
     "output_type": "stream",
     "text": [
      "Standard deviation of Rainfall for plots larger than the median plot size: 469.62\n"
     ]
    }
   ],
   "source": [
    "# Find the median Plot_size.\n",
    "median_plot_size = df['Plot_size'].median()\n",
    "\n",
    "#Filter the dataset to include only rows where Plot_size is larger than this median.\n",
    "larger_than_median_data = df[df['Plot_size'] > median_plot_size]\n",
    "\n",
    "#Calculate the standard deviation of Rainfall for the filtered dataset.\n",
    "rainfall_std = np.std(larger_than_median_data['Rainfall'], ddof=0)\n",
    "\n",
    "#Round the result to 2 decimal places.\n",
    "rainfall_std_rounded = round(rainfall_std, 2)\n",
    "print(\"Standard deviation of Rainfall for plots larger than the median plot size:\", rainfall_std_rounded)"
   ]
  },
  {
   "cell_type": "markdown",
   "id": "5021f421-db38-4ce6-bd99-4c573e82428f",
   "metadata": {},
   "source": [
    "#### 9. If you concatenate the first three digits of the most common ‘Max_temperature_C’ with the last three letters of the least common 'Crop_type', what string do you get?\n",
    "Note: Use the first mode if there are multiple modes"
   ]
  },
  {
   "cell_type": "code",
   "execution_count": 12,
   "id": "b9b68a23-7bbd-45b2-befc-d9a15fcd870e",
   "metadata": {},
   "outputs": [
    {
     "name": "stdout",
     "output_type": "stream",
     "text": [
      "Resulting string: 30.ice\n"
     ]
    }
   ],
   "source": [
    "most_common_temp = df['Max_temperature_C'].mode()[0] \n",
    "\n",
    "first_three_digits = str(most_common_temp)[:3]\n",
    "\n",
    "crop_type_counts = df['Crop_type'].value_counts()\n",
    "\n",
    "least_common_crop = crop_type_counts.index[-1]  # The last index is the least common\n",
    "\n",
    "# Extract the last three letters\n",
    "last_three_letters = least_common_crop[-3:]\n",
    "\n",
    "# Step 3: Concatenate the two parts\n",
    "result = first_three_digits + last_three_letters\n",
    "\n",
    "print(\"Resulting string:\", result)"
   ]
  },
  {
   "cell_type": "markdown",
   "id": "9a916849-d0e6-461a-b06d-fac64c570d19",
   "metadata": {},
   "source": [
    "10. Write Python code to create a violin plot visualising the distribution of 'Annual_yield' across different 'Elevation' ranges. Use the provided elevation range categories (Low: < 300m, Medium: 300m - 600m, High: > 600m) to categorise the data before plotting.  Examine the violin plot displaying the distribution of 'Annual Yield' across three elevation categories (Low, Medium, High). What insight does the violin plot provide regarding the relationship between elevation ranges and annual yield distribution?\n",
    "\n",
    "'Low' elevation has the highest yield variability, suggesting that these areas might experience a wider range of factors influencing agricultural productivity.\n",
    "The 'Low' elevation category shows a more consistent yield distribution with less variability compared to the 'Medium' and 'High' categories. This could indicate that lower elevations provide stable conditions for consistent agricultural output.\n",
    "The violin is not visible for the high elevation category. This means that there are very few or no data points in this category.\n",
    "'Medium' elevation exhibits a variability in yield, but to a significantly lesser extent than the 'High' elevation, potentially due to a mix of conditions that affect crop yield."
   ]
  },
  {
   "cell_type": "code",
   "execution_count": 13,
   "id": "8f07c9ec-9aef-43f8-8081-7ec0af74a227",
   "metadata": {},
   "outputs": [
    {
     "data": {
      "image/png": "[encoded data removed]",
      "text/plain": [
       "<Figure size 1000x600 with 1 Axes>"
      ]
     },
     "metadata": {},
     "output_type": "display_data"
    }
   ],
   "source": [
    "# Step 1: Categorize 'Elevation' into ranges\n",
    "df['Elevation_category'] = pd.cut(\n",
    "    df['Elevation'],\n",
    "    bins=[-float('inf'), 300, 600, float('inf')],\n",
    "    labels=['Low', 'Medium', 'High']\n",
    ")\n",
    "\n",
    "# Step 2: Create a violin plot\n",
    "plt.figure(figsize=(10, 6))\n",
    "sns.violinplot(x='Elevation_category', y='Annual_yield', data=df)\n",
    "plt.title('Distribution of Annual Yield Across Elevation Ranges')\n",
    "plt.xlabel('Elevation Category')\n",
    "plt.ylabel('Annual Yield')\n",
    "plt.show()"
   ]
  },
  {
   "cell_type": "markdown",
   "id": "1e6f5691-2cdb-456c-a1fa-ca371b23847d",
   "metadata": {},
   "source": [
    "#### 11. Assuming each 'Crop_type' contributes an integer value equal to its length (e.g., 'wheat' contributes 5), write a recursive function to sum the integer values for each unique crop type in the dataset. What is the sum?"
   ]
  },
  {
   "cell_type": "code",
   "execution_count": 14,
   "id": "26b85b5a-9005-429c-8eca-38c1b6f3d3d9",
   "metadata": {},
   "outputs": [
    {
     "name": "stdout",
     "output_type": "stream",
     "text": [
      "The sum of integer values for each unique crop type: 42\n"
     ]
    }
   ],
   "source": [
    "# Get the unique crop types\n",
    "unique_crops = df['Crop_type'].unique()\n",
    "\n",
    "# Recursive function to calculate the sum of lengths of crop types\n",
    "def sum_crop_lengths(crops):\n",
    "    if len(crops) == 0:  # Base case: if the list is empty, return 0\n",
    "        return 0\n",
    "    else:\n",
    "        return len(crops[0]) + sum_crop_lengths(crops[1:])  # Add the length of the first crop and recurse\n",
    "\n",
    "# Calculate the sum for unique crops\n",
    "total_sum = sum_crop_lengths(unique_crops)\n",
    "\n",
    "print(\"The sum of integer values for each unique crop type:\", total_sum)"
   ]
  },
  {
   "cell_type": "markdown",
   "id": "ec83c807-6a0c-4f93-b917-2bb5e132295a",
   "metadata": {},
   "source": [
    "#### 12. Write Python code to perform a t-test comparing the average 'Annual_yield' between 'coffee' and 'banana' crop types using scipy.stats. What is the p-value, rounded to three decimal places?"
   ]
  },
  {
   "cell_type": "code",
   "execution_count": 16,
   "id": "323bbb87-7390-4239-beec-b92f1c721b32",
   "metadata": {},
   "outputs": [
    {
     "name": "stdout",
     "output_type": "stream",
     "text": [
      "P-value: 0.598\n"
     ]
    }
   ],
   "source": [
    "from scipy import stats\n",
    "\n",
    "# Split the data into two groups based on crop type\n",
    "coffee_yield = df[df['Crop_type'] == 'coffee']['Annual_yield']\n",
    "banana_yield = df[df['Crop_type'] == 'banana']['Annual_yield']\n",
    "\n",
    "# Perform the t-test\n",
    "t_stat, p_value = stats.ttest_ind(coffee_yield, banana_yield)\n",
    "\n",
    "# Print the p-value rounded to three decimal places\n",
    "print(f\"P-value: {p_value:.3f}\")"
   ]
  }
 ],
 "metadata": {
  "kernelspec": {
   "display_name": "python_environment",
   "language": "python",
   "name": "python3"
  },
  "language_info": {
   "codemirror_mode": {
    "name": "ipython",
    "version": 3
   },
   "file_extension": ".py",
   "mimetype": "text/x-python",
   "name": "python",
   "nbconvert_exporter": "python",
   "pygments_lexer": "ipython3",
   "version": "3.12.5"
  }
 },
 "nbformat": 4,
 "nbformat_minor": 5
}
